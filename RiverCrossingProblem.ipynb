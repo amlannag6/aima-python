{
 "cells": [
  {
   "cell_type": "code",
   "execution_count": null,
   "id": "active-stroke",
   "metadata": {},
   "outputs": [],
   "source": [
    "# Title: COMP 3710 Assignment 3_River Crossing Problem\n",
    "# File: RiverCrossingProblem.py\n",
    "# Description:A gentleman is moving with 2 sheep and a wolf. They arrive at one side of a river and must cross the river. There is a boat that he can use to cross the river. However, the boat can carry only 2 passengers. He cannot leave the wolf with the sheep (you know why)  \n",
    "#Require Action: In this program , need to develop a program that will implemnet command line to execute the solution. Program will identify how he can cross the river with 2 sheep and 1 wolf. \n",
    "# Author: Amlan Nag \n",
    "# Version 1.0 \n",
    "# Student ID: T00605732\n",
    "# Date: February 08, 2021"
   ]
  },
  {
   "cell_type": "code",
   "execution_count": 2,
   "id": "marked-implement",
   "metadata": {},
   "outputs": [],
   "source": [
    "from search import *   # using import function -recalling search file to execute existing programs.         "
   ]
  },
  {
   "cell_type": "code",
   "execution_count": 18,
   "id": "military-trace",
   "metadata": {},
   "outputs": [],
   "source": [
    "class RiverCrossingProblem(Problem):\n",
    "# Creating this class to implement the program which will generate the solution   \n",
    "    \n",
    "    def __init__(self, initial = (0,0,0), goal = (1,1,2)):\n",
    "## Using self to instance of the class and get access the attributes and methods by implementing __init__\n",
    "        \n",
    "        self.goal = goal\n",
    "        super().__init__(initial, goal) \n",
    "# Initialliece to recall the function  __init__ from class\n",
    "        \n",
    "    def actions(self,state):\n",
    "# defining the action that can be execuatble. \n",
    "        \n",
    "        possible_actions = ['']\n",
    "\n",
    "# Implementing Conditions as per problem and generate correct input validation \n",
    "        if state[0] == 0:\n",
    "            \n",
    "            if state[1] == 0:\n",
    "                if state[2] == 0:\n",
    "                    possible_actions.append('Man_moves_with_\"W\"_Right')\n",
    "                elif state[2] == 1:\n",
    "                    possible_actions.append('Man_moves_with_\"S\"_Right')\n",
    "                elif state[2] == 2:\n",
    "                    possible_actions.append('Man_moves_with_\"W\"_Right')\n",
    "# Here W represent Wolf and Right direction to other side of river and vice-versa Left.                    \n",
    "            elif state[1] == 1:\n",
    "                if state[2] == 0:\n",
    "                    possible_actions.append('Man_moves_with_\"S\"_Right')\n",
    "                elif state[2] == 2:\n",
    "                    possible_actions.append('Man_moves_\"alone\"_Right')\n",
    "                    \n",
    "        elif state[0] == 1:\n",
    "            \n",
    "            if state[1] == 0:\n",
    "                if state[2] == 0:\n",
    "                    possible_actions.append('Man_moves_\"alone\"_Left')\n",
    "                elif state[2] == 2:\n",
    "                    possible_actions.append('Man_moves_\"alone\"_Left')\n",
    "                    \n",
    "            elif state[1] == 1:\n",
    "                if state[2] == 0:\n",
    "                    possible_actions.append('Man_moves_\"alone\"_Left')\n",
    "                elif state[2] == 1:\n",
    "                    possible_actions.append('Man_moves_with_\"W\"_Left')\n",
    "                    \n",
    "        return possible_actions\n",
    "    \n",
    "    def result(self, state, action):\n",
    "# Defening it to self to initation state and actions\n",
    "        new_state = list(state)\n",
    "        \n",
    "# Conditions status update and implement of program use \n",
    "        if action =='Man_moves_\"alone\"_Right':\n",
    "            new_state[0] = 1\n",
    "            \n",
    "        elif action == 'Man_moves_with_\"W\"_Right':\n",
    "            new_state[0] = 1\n",
    "            new_state[1] = 1\n",
    "#If Man alone moved then other possibilites to moves.              \n",
    "        elif action == 'Man_moves_with_\"S\"_Right':\n",
    "            new_state[0] = 1\n",
    "            if new_state[2] == 0 or new_state[2] == 1:\n",
    "                new_state[2] += 1\n",
    "#elif condition applies for all other possibilities                 \n",
    "        elif action == 'Man_moves_\"alone\"_Left':\n",
    "            new_state[0] = 0\n",
    "            \n",
    "        elif action == 'Man_moves_with_\"W\"_Left':\n",
    "            new_state[0] = 0\n",
    "            new_state[1] = 0\n",
    "            \n",
    "        elif action == 'Man_moves_with_\"S\"_Left':\n",
    "            new_state[0] = 0\n",
    "            if new_state[2] == 1 or new_state[2] == 2:\n",
    "                new_state[2] -= 1\n",
    "                \n",
    "        return tuple(new_state)\n",
    "    \n",
    "    def goal_state(self, state):\n",
    "# Given a state to return True if state is a goal state or False, otherwise       \n",
    "        return state == tuple(self.goal)\n",
    "# End of program !! \n"
   ]
  },
  {
   "cell_type": "code",
   "execution_count": 19,
   "id": "legal-occasions",
   "metadata": {},
   "outputs": [],
   "source": [
    "a=RiverCrossingProblem()"
   ]
  },
  {
   "cell_type": "code",
   "execution_count": 20,
   "id": "going-pasta",
   "metadata": {},
   "outputs": [
    {
     "data": {
      "text/plain": [
       "['Man_moves_with_\"W\"_Right',\n",
       " 'Man_moves_\"alone\"_Left',\n",
       " 'Man_moves_with_\"S\"_Right',\n",
       " 'Man_moves_with_\"W\"_Left',\n",
       " 'Man_moves_with_\"S\"_Right',\n",
       " 'Man_moves_\"alone\"_Left',\n",
       " 'Man_moves_with_\"W\"_Right']"
      ]
     },
     "execution_count": 20,
     "metadata": {},
     "output_type": "execute_result"
    }
   ],
   "source": [
    "depth_first_graph_search(a).solution()"
   ]
  },
  {
   "cell_type": "code",
   "execution_count": 21,
   "id": "elder-channel",
   "metadata": {},
   "outputs": [
    {
     "data": {
      "text/plain": [
       "['Man_moves_with_\"W\"_Right',\n",
       " 'Man_moves_\"alone\"_Left',\n",
       " 'Man_moves_with_\"S\"_Right',\n",
       " 'Man_moves_with_\"W\"_Left',\n",
       " 'Man_moves_with_\"S\"_Right',\n",
       " 'Man_moves_\"alone\"_Left',\n",
       " 'Man_moves_with_\"W\"_Right']"
      ]
     },
     "execution_count": 21,
     "metadata": {},
     "output_type": "execute_result"
    }
   ],
   "source": [
    "breadth_first_graph_search(a).solution()"
   ]
  },
  {
   "cell_type": "code",
   "execution_count": 22,
   "id": "blank-leader",
   "metadata": {},
   "outputs": [
    {
     "data": {
      "text/plain": [
       "['Man_moves_with_\"W\"_Right',\n",
       " 'Man_moves_\"alone\"_Left',\n",
       " 'Man_moves_with_\"S\"_Right',\n",
       " 'Man_moves_with_\"W\"_Left',\n",
       " 'Man_moves_with_\"S\"_Right',\n",
       " 'Man_moves_\"alone\"_Left',\n",
       " 'Man_moves_with_\"W\"_Right']"
      ]
     },
     "execution_count": 22,
     "metadata": {},
     "output_type": "execute_result"
    }
   ],
   "source": [
    "breadth_first_tree_search(a).solution()"
   ]
  },
  {
   "cell_type": "code",
   "execution_count": 23,
   "id": "meaning-wrapping",
   "metadata": {},
   "outputs": [],
   "source": [
    "searchers=[depth_first_graph_search,breadth_first_tree_search,breadth_first_graph_search]"
   ]
  },
  {
   "cell_type": "code",
   "execution_count": 24,
   "id": "mounted-turkish",
   "metadata": {},
   "outputs": [
    {
     "name": "stdout",
     "output_type": "stream",
     "text": [
      "Search algorithms            successsors/goal tests/states generated/solution\n",
      "depth_first_graph_search     <   7/   8/  14/(1, >                           \n",
      "breadth_first_tree_search    < 254/ 255/ 508/(1, >                           \n",
      "breadth_first_graph_search   <   7/   8/  14/(1, >                           \n"
     ]
    }
   ],
   "source": [
    "compare_searchers([a],['Search algorithms','successsors/goal tests/states generated/solution'],searchers)"
   ]
  },
  {
   "cell_type": "code",
   "execution_count": null,
   "id": "corporate-farming",
   "metadata": {},
   "outputs": [],
   "source": []
  }
 ],
 "metadata": {
  "kernelspec": {
   "display_name": "Python 3",
   "language": "python",
   "name": "python3"
  },
  "language_info": {
   "codemirror_mode": {
    "name": "ipython",
    "version": 3
   },
   "file_extension": ".py",
   "mimetype": "text/x-python",
   "name": "python",
   "nbconvert_exporter": "python",
   "pygments_lexer": "ipython3",
   "version": "3.9.1"
  }
 },
 "nbformat": 4,
 "nbformat_minor": 5
}
