{
 "cells": [
  {
   "cell_type": "code",
   "execution_count": 1,
   "id": "diagnostic-capture",
   "metadata": {},
   "outputs": [],
   "source": [
    "# Title: COMP 3710 Assignment 3_Three Jug Problem\n",
    "# File: Three_Jug_Problem.py\n",
    "# Description:In Three Jug Problem It is here that they must make exactly four gallons from five- and three-gallon jugs. They did it just in time\n",
    "#Require Action: Need to solve the program and make it applicable for search algorithm. \n",
    "# Author: Amlan Nag \n",
    "# Version 1.0 \n",
    "# Student ID: T00605732\n",
    "# Date: February 10, 2021\n"
   ]
  },
  {
   "cell_type": "code",
   "execution_count": 3,
   "id": "varying-diploma",
   "metadata": {},
   "outputs": [],
   "source": [
    "from search import *  # using import function -recalling search file to execute existing programs. \n",
    "\n"
   ]
  },
  {
   "cell_type": "code",
   "execution_count": 4,
   "id": "drawn-escape",
   "metadata": {},
   "outputs": [],
   "source": [
    "class Three_Jug_Problem(Problem):\n",
    "#This application will generate a solution that will implies 4 gallons in a jug, from jugs of 3 and 5 gallons\n",
    "\n",
    "    def __init__(self, initial = (0,0), goal = (4,0)):\n",
    "## Using self to instance of the class and get access the attributes and methods by implementing __init__\n",
    "\n",
    "        self.goal = goal\n",
    "        self.initial = initial\n",
    "        super().__init__(initial, goal)  \n",
    "\n",
    "# Initialize to recall the function  __init__ from class\n",
    "\n",
    "    def actions(self,state):\n",
    "# defining the action that can be executable.\n",
    "        \n",
    "        possible_actions = ['']\n",
    "        \n",
    "# Implementing Conditions as per problem and generate correct input validation \n",
    "\n",
    "        if state[0] == 0:\n",
    "            \n",
    "            if state[1] == 0:\n",
    "                possible_actions.append('Fill_3gal_Jug')\n",
    "            elif state[1] == 3:\n",
    "                possible_actions.append('Pour_3gal_into_5gal')\n",
    "            elif state[1] == 1:\n",
    "                possible_actions.append('Pour_3gal_into_5gal')\n",
    "        \n",
    "        elif state[0] == 1:\n",
    "            \n",
    "            if state[1] == 0:\n",
    "                possible_actions.append('Fill_3gal_Jug')\n",
    "            elif state[1] == 3:\n",
    "                possible_actions.append('Pour_3gal_into_5gal')\n",
    "#elif condition applies for all other possibilities \n",
    "                \n",
    "        elif state[0] == 3:\n",
    "            \n",
    "            if state[1] == 0:\n",
    "                possible_actions.append('Fill_3gal_Jug')\n",
    "            elif state[1] == 1:\n",
    "                possible_actions.append('Pour_3gal_into_5gal')\n",
    "            elif state[1] == 3:\n",
    "                possible_actions.append('Pour_3gal_into_5gal')\n",
    "                \n",
    "        elif state[0] == 5:\n",
    "            \n",
    "                \n",
    "            if state[1] == 0:\n",
    "                possible_actions.append('Fill_3gal_Jug')\n",
    "            elif state[1] == 1:\n",
    "                possible_actions.append('Empty_5gal_Jug')\n",
    "            elif state[1] == 3:\n",
    "                possible_actions.append('Empty_5gal_Jug')\n",
    "                \n",
    "                \n",
    "       \n",
    "        return possible_actions\n",
    "\n",
    "    def result(self, state, action):\n",
    "#function to make  a new resulting state\n",
    "\n",
    "        new_state = list(state)\n",
    "            \n",
    "# Conditions status update and implement of program use\n",
    "\n",
    "            \n",
    "        if action == 'Fill_3gal_Jug':\n",
    "            new_state[1] = 3\n",
    "        elif action == 'Pour_3gal_into_5gal':\n",
    "            if state[0] == 3:\n",
    "                new_state[0] = 5\n",
    "                new_state[1] = 1\n",
    "            elif state[0] == 1:\n",
    "                new_state[0] = 4\n",
    "                new_state[1] = 0\n",
    "            elif state[0] == 0 and state[1] == 1:\n",
    "                new_state[0] = 1\n",
    "                new_state[1] = 0\n",
    "            elif state[0] == 0 and state[1] == 3:\n",
    "                new_state[0] = 3\n",
    "                new_state[1] = 0\n",
    "        elif action == 'Empty_5gal_Jug':\n",
    "            new_state[0] = 0\n",
    "                \n",
    "        return tuple(new_state)\n",
    "    \n",
    "    def goal_state(self, state):\n",
    "# Given a state to return True if state is a goal state or False, otherwise   \n",
    "\n",
    "        return state[0] == tuple(self.goal[0])\n",
    "    \n",
    "    def h(self, node):\n",
    "#This function will returns the total value of JUG \n",
    "        return sum(node.state)\n",
    "# End of program !! "
   ]
  },
  {
   "cell_type": "code",
   "execution_count": 5,
   "id": "iraqi-talent",
   "metadata": {},
   "outputs": [
    {
     "data": {
      "text/plain": [
       "['Fill_3gal_Jug',\n",
       " 'Pour_3gal_into_5gal',\n",
       " 'Fill_3gal_Jug',\n",
       " 'Pour_3gal_into_5gal',\n",
       " 'Empty_5gal_Jug',\n",
       " 'Pour_3gal_into_5gal',\n",
       " 'Fill_3gal_Jug',\n",
       " 'Pour_3gal_into_5gal']"
      ]
     },
     "execution_count": 5,
     "metadata": {},
     "output_type": "execute_result"
    }
   ],
   "source": [
    "recursive_best_first_search(Three_Jug_Problem()).solution()"
   ]
  },
  {
   "cell_type": "code",
   "execution_count": 6,
   "id": "living-fabric",
   "metadata": {},
   "outputs": [
    {
     "data": {
      "text/plain": [
       "['Fill_3gal_Jug',\n",
       " 'Pour_3gal_into_5gal',\n",
       " 'Fill_3gal_Jug',\n",
       " 'Pour_3gal_into_5gal',\n",
       " 'Empty_5gal_Jug',\n",
       " 'Pour_3gal_into_5gal',\n",
       " 'Fill_3gal_Jug',\n",
       " 'Pour_3gal_into_5gal']"
      ]
     },
     "execution_count": 6,
     "metadata": {},
     "output_type": "execute_result"
    }
   ],
   "source": [
    "breadth_first_tree_search(Three_Jug_Problem()).solution()"
   ]
  },
  {
   "cell_type": "code",
   "execution_count": 7,
   "id": "perfect-performance",
   "metadata": {},
   "outputs": [
    {
     "data": {
      "text/plain": [
       "['Fill_3gal_Jug',\n",
       " 'Pour_3gal_into_5gal',\n",
       " 'Fill_3gal_Jug',\n",
       " 'Pour_3gal_into_5gal',\n",
       " 'Empty_5gal_Jug',\n",
       " 'Pour_3gal_into_5gal',\n",
       " 'Fill_3gal_Jug',\n",
       " 'Pour_3gal_into_5gal']"
      ]
     },
     "execution_count": 7,
     "metadata": {},
     "output_type": "execute_result"
    }
   ],
   "source": [
    "breadth_first_graph_search(Three_Jug_Problem()).solution()"
   ]
  },
  {
   "cell_type": "code",
   "execution_count": 9,
   "id": "genuine-adventure",
   "metadata": {},
   "outputs": [],
   "source": [
    "prob = Three_Jug_Problem()"
   ]
  },
  {
   "cell_type": "code",
   "execution_count": 10,
   "id": "wicked-drove",
   "metadata": {},
   "outputs": [],
   "source": [
    "searchers=[recursive_best_first_search,breadth_first_tree_search,breadth_first_graph_search]"
   ]
  },
  {
   "cell_type": "code",
   "execution_count": 11,
   "id": "athletic-illinois",
   "metadata": {},
   "outputs": [
    {
     "name": "stdout",
     "output_type": "stream",
     "text": [
      "Search algorithms             successsors/goal tests/states generated/solution\n",
      "recursive_best_first_search   <1091/1092/2182/(4, >                           \n",
      "breadth_first_tree_search     < 510/ 511/1020/(4, >                           \n",
      "breadth_first_graph_search    <   8/   9/  16/(4, >                           \n"
     ]
    }
   ],
   "source": [
    "compare_searchers([prob],['Search algorithms','successsors/goal tests/states generated/solution'],searchers)"
   ]
  },
  {
   "cell_type": "code",
   "execution_count": null,
   "id": "guided-makeup",
   "metadata": {},
   "outputs": [],
   "source": []
  }
 ],
 "metadata": {
  "kernelspec": {
   "display_name": "Python 3",
   "language": "python",
   "name": "python3"
  },
  "language_info": {
   "codemirror_mode": {
    "name": "ipython",
    "version": 3
   },
   "file_extension": ".py",
   "mimetype": "text/x-python",
   "name": "python",
   "nbconvert_exporter": "python",
   "pygments_lexer": "ipython3",
   "version": "3.9.1"
  }
 },
 "nbformat": 4,
 "nbformat_minor": 5
}
